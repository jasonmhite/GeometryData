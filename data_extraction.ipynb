{
 "cells": [
  {
   "cell_type": "code",
   "execution_count": 18,
   "metadata": {
    "collapsed": false
   },
   "outputs": [
    {
     "name": "stdout",
     "output_type": "stream",
     "text": [
      "Populating the interactive namespace from numpy and matplotlib\n"
     ]
    },
    {
     "name": "stderr",
     "output_type": "stream",
     "text": [
      "WARNING: pylab import has clobbered these variables: ['f']\n",
      "`%matplotlib` prevents importing * from pylab and numpy\n"
     ]
    }
   ],
   "source": [
    "%pylab inline"
   ]
  },
  {
   "cell_type": "code",
   "execution_count": 3,
   "metadata": {
    "collapsed": true
   },
   "outputs": [],
   "source": [
    "import cPickle as pickle"
   ]
  },
  {
   "cell_type": "code",
   "execution_count": 1,
   "metadata": {
    "collapsed": true
   },
   "outputs": [],
   "source": [
    "import gefry2"
   ]
  },
  {
   "cell_type": "code",
   "execution_count": 4,
   "metadata": {
    "collapsed": false
   },
   "outputs": [],
   "source": [
    "with open('./spec.pkl') as f:\n",
    "    P, obs, sigma = pickle.load(f)"
   ]
  },
  {
   "cell_type": "code",
   "execution_count": 7,
   "metadata": {
    "collapsed": false
   },
   "outputs": [
    {
     "name": "stdout",
     "output_type": "stream",
     "text": [
      "[158  98]\n"
     ]
    }
   ],
   "source": [
    "# Location of the source (meters)\n",
    "print(P.source.loc)"
   ]
  },
  {
   "cell_type": "code",
   "execution_count": 10,
   "metadata": {
    "collapsed": false
   },
   "outputs": [
    {
     "name": "stdout",
     "output_type": "stream",
     "text": [
      "3.2140E+09\n"
     ]
    }
   ],
   "source": [
    "# Intensity\n",
    "print(\"{:.4E}\".format(P.source.intensity))"
   ]
  },
  {
   "cell_type": "code",
   "execution_count": 19,
   "metadata": {
    "collapsed": false
   },
   "outputs": [
    {
     "name": "stdout",
     "output_type": "stream",
     "text": [
      "[ 0.05720516  0.05776049  0.04943674  0.04552821  0.05332512  0.04855489\n",
      "  0.05652938  0.05807132  0.05368017  0.05863512  0.05708592  0.05356378\n",
      "  0.05719273  0.05036514  0.04235439  0.04389705  0.04255509  0.04809024\n",
      "  0.05839909  0.05208743  0.04124017  0.05148868  0.04206888  0.05734774\n",
      "  0.05802029  0.0437273   0.05533729  0.05706262  0.05278673  0.05696951\n",
      "  0.04786608  0.0490115   0.04866986  0.05212126  0.05271452  0.04765085\n",
      "  0.04191435  0.05852653  0.04661406  0.05093589  0.05008964  0.04431365\n",
      "  0.04666549  0.05744369  0.04850174  0.0448708   0.04509586  0.04381561\n",
      "  0.05104843  0.05459858  0.05683899  0.04905003  0.04601799  0.04520532\n",
      "  0.05787082  0.04880625  0.04596143  0.04372173  0.04342586  0.05116707\n",
      "  0.0534282   0.05115871  0.04888709  0.04827456  0.04530798  0.04514278\n",
      "  0.04333619  0.04141195  0.05039457  0.05944784]\n"
     ]
    }
   ],
   "source": [
    "# Cross sections\n",
    "savetxt(\"cross_sections.dat\", P.domain.sigmas)\n",
    "        \n",
    "print(P.domain.sigmas)"
   ]
  },
  {
   "cell_type": "code",
   "execution_count": 25,
   "metadata": {
    "collapsed": false
   },
   "outputs": [
    {
     "name": "stdout",
     "output_type": "stream",
     "text": [
      "[[  68.7401029    35.76719126]\n",
      " [  66.40829599  119.5157862 ]\n",
      " [   4.09288418   48.11233654]\n",
      " [ 190.20050205   50.16141249]\n",
      " [  93.95789422   99.89302781]\n",
      " [ 189.25480223   19.21886672]\n",
      " [ 154.48877076    2.9933617 ]\n",
      " [ 188.90616948  141.27786291]\n",
      " [ 119.90370763  160.0061866 ]\n",
      " [ 214.49842459   77.97497978]]\n"
     ]
    }
   ],
   "source": [
    "# Detector locations\n",
    "dXY = array([i.loc for i in P.detectors])\n",
    "savetxt(\"detector_locs.dat\", dXY)\n",
    "\n",
    "print(dXY)"
   ]
  },
  {
   "cell_type": "code",
   "execution_count": 29,
   "metadata": {
    "collapsed": false
   },
   "outputs": [
    {
     "name": "stdout",
     "output_type": "stream",
     "text": [
      "[ 0.005806  0.005806  0.005806  0.005806  0.005806  0.005806  0.005806\n",
      "  0.005806  0.005806  0.005806]\n"
     ]
    }
   ],
   "source": [
    "# Detector face areas\n",
    "print(array([i.A for i in P.detectors]))"
   ]
  },
  {
   "cell_type": "code",
   "execution_count": 30,
   "metadata": {
    "collapsed": false
   },
   "outputs": [
    {
     "name": "stdout",
     "output_type": "stream",
     "text": [
      "[ 5.  5.  5.  5.  5.  5.  5.  5.  5.  5.]\n"
     ]
    }
   ],
   "source": [
    "# Dwell times\n",
    "print(array([i.dwell for i in P.detectors]))"
   ]
  },
  {
   "cell_type": "code",
   "execution_count": 31,
   "metadata": {
    "collapsed": false
   },
   "outputs": [
    {
     "name": "stdout",
     "output_type": "stream",
     "text": [
      "[ 0.62  0.62  0.62  0.62  0.62  0.62  0.62  0.62  0.62  0.62]\n"
     ]
    }
   ],
   "source": [
    "# Efficiencies\n",
    "print(array([i.epsilon for i in P.detectors]))"
   ]
  },
  {
   "cell_type": "code",
   "execution_count": 33,
   "metadata": {
    "collapsed": false
   },
   "outputs": [
    {
     "name": "stdout",
     "output_type": "stream",
     "text": [
      "[[378 483 320 629 484 352 405 658 628 519]\n",
      " [369 470 313 620 495 349 404 685 650 511]\n",
      " [332 431 285 566 470 315 370 621 604 502]\n",
      " [356 451 298 591 478 335 370 669 638 515]\n",
      " [378 503 325 639 506 353 409 701 648 534]\n",
      " [361 460 293 607 482 326 365 643 599 493]\n",
      " [373 470 307 605 465 326 387 647 636 535]\n",
      " [351 472 302 606 491 346 373 636 605 495]\n",
      " [383 482 317 631 475 351 399 640 613 543]\n",
      " [350 426 292 579 458 318 377 639 582 495]]\n"
     ]
    }
   ],
   "source": [
    "# Observations\n",
    "savetxt(\"observations.dat\", obs)\n",
    "\n",
    "print(obs)"
   ]
  },
  {
   "cell_type": "code",
   "execution_count": 37,
   "metadata": {
    "collapsed": false
   },
   "outputs": [
    {
     "name": "stdout",
     "output_type": "stream",
     "text": [
      "[[ 19.4422221   21.97726098  17.88854382  25.07987241  22.          18.76166304\n",
      "   20.1246118   25.65151068  25.05992817  22.7815715 ]\n",
      " [ 19.20937271  21.67948339  17.69180601  24.8997992   22.24859546\n",
      "   18.68154169  20.09975124  26.17250466  25.49509757  22.60530911]\n",
      " [ 18.22086716  20.76053949  16.88194302  23.79075451  21.67948339\n",
      "   17.74823935  19.23538406  24.91987159  24.57641145  22.4053565 ]\n",
      " [ 18.86796226  21.23676058  17.2626765   24.31049156  21.86321111\n",
      "   18.30300522  19.23538406  25.86503431  25.25866188  22.69361144]\n",
      " [ 19.4422221   22.42766149  18.02775638  25.27844932  22.49444376\n",
      "   18.78829423  20.22374842  26.47640459  25.45584412  23.10844002]\n",
      " [ 19.          21.44761059  17.11724277  24.63736999  21.9544984\n",
      "   18.05547009  19.10497317  25.35744467  24.4744765   22.20360331]\n",
      " [ 19.31320792  21.67948339  17.52141547  24.59674775  21.56385865\n",
      "   18.05547009  19.67231557  25.43619468  25.21904043  23.13006701]\n",
      " [ 18.734994    21.72556098  17.3781472   24.61706725  22.15851981\n",
      "   18.60107524  19.31320792  25.21904043  24.59674775  22.24859546]\n",
      " [ 19.57038579  21.9544984   17.80449381  25.11971337  21.79449472\n",
      "   18.734994    19.97498436  25.29822128  24.75883681  23.3023604 ]\n",
      " [ 18.70828693  20.63976744  17.08800749  24.06241883  21.40093456\n",
      "   17.8325545   19.41648784  25.27844932  24.12467616  22.24859546]]\n"
     ]
    }
   ],
   "source": [
    "# Uncertainties\n",
    "savetxt(\"uncertainties.dat\", sigma)\n",
    "print(sigma)"
   ]
  },
  {
   "cell_type": "code",
   "execution_count": null,
   "metadata": {
    "collapsed": true
   },
   "outputs": [],
   "source": []
  }
 ],
 "metadata": {
  "kernelspec": {
   "display_name": "Python 2",
   "language": "python2",
   "name": "python2"
  },
  "language_info": {
   "codemirror_mode": {
    "name": "ipython",
    "version": 2
   },
   "file_extension": ".py",
   "mimetype": "text/x-python",
   "name": "python",
   "nbconvert_exporter": "python",
   "pygments_lexer": "ipython2",
   "version": "2.7.11"
  }
 },
 "nbformat": 4,
 "nbformat_minor": 0
}
